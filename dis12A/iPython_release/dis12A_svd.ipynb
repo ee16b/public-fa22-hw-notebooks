{
 "cells": [
  {
   "cell_type": "markdown",
   "metadata": {},
   "source": [
    "# Discussion 12A, Fall 2022"
   ]
  },
  {
   "cell_type": "code",
   "execution_count": null,
   "metadata": {},
   "outputs": [],
   "source": [
    "import numpy as np\n",
    "from math import cos, sin, pi, sqrt"
   ]
  },
  {
   "cell_type": "markdown",
   "metadata": {},
   "source": [
    "In this discussion, we will look at an example of how the SVD and pseudoinverse can be used to solve for the minimum norm solution. This discussion will also help you prepare for a homework problem you will have on HW12.\n",
    "\n",
    "For this notebook, we will deal with a graphical example where we are given 2 planes and are asked to find the point on the intersection that is the closest to the origin. We will attempt to use the pseudoinverse as a means of calculating this point. Suppose the equations for the two planes are given as follows:\n",
    "$$\n",
    "    x + y - z = 4 \\\\\n",
    "    x + y + z = 4\n",
    "$$\n"
   ]
  },
  {
   "cell_type": "markdown",
   "metadata": {},
   "source": [
    "### Part (a)\n",
    "Given the equations above, __write the system in matrix-vector form__\n",
    "$$\n",
    "    A\\vec{x} = \\vec{b} \\ \\ \\ \\ \\text{where} \\ \\ \\ \\ \\vec{x} = \n",
    "    \\begin{bmatrix}\n",
    "        x \\\\ y \\\\ z\n",
    "    \\end{bmatrix}\n",
    "$$\n",
    "What type of system is this and how many solutions exist?\n",
    "\n",
    "HINT: To create a numpy array for the $2 \\times 2$ identity matrix, you would write np.array([[1,0], [0,1]])"
   ]
  },
  {
   "cell_type": "code",
   "execution_count": null,
   "metadata": {},
   "outputs": [],
   "source": [
    "A = ... # YOUR CODE HERE\n",
    "b = ... # YOUR CODE HERE\n",
    "\n",
    "m, n = A.shape"
   ]
  },
  {
   "cell_type": "markdown",
   "metadata": {},
   "source": []
  },
  {
   "cell_type": "markdown",
   "metadata": {},
   "source": [
    "### Part (b)\n",
    "Now let's calculate the SVD of matrix $A$. We have provided you with some skeleton code for the algorithm for calculating the full SVD. It may be helpful to refer to Algorithm 15 on Note 16: https://eecs16b.org/notes/fa22/note16.pdf#page=8. __Fill in the blanks in the algorithm using the note linked above as a reference.__\n",
    "\n",
    "HINT: Some helpful numpy functions include [np.linalg.eig](https://numpy.org/doc/stable/reference/generated/numpy.linalg.eig.html), [np.linalg.matrix_rank](https://numpy.org/doc/stable/reference/generated/numpy.linalg.matrix_rank.html)\n",
    "\n",
    "HINT: To perform matrix multiplication you can use the @ operator (ex: A @ B) and to take the transpose of a matrix use .T (ex: A.T)"
   ]
  },
  {
   "cell_type": "code",
   "execution_count": null,
   "metadata": {},
   "outputs": [],
   "source": [
    "def FullSVD(A):\n",
    "    m, n = A.shape\n",
    "    r = ... # YOUR CODE HERE\n",
    "    U_r = np.zeros((m, r))\n",
    "    Sigma_r = np.zeros((r, r))\n",
    "    V_r = np.zeros((n, r))\n",
    "    \n",
    "    eigenvalues, normalized_eigenvectors = ... # YOUR CODE HERE\n",
    "\n",
    "    # Handles sorting of eigenvalues in non-increasing order\n",
    "    idx = eigenvalues.argsort()[::-1]   \n",
    "    eigenvalues = eigenvalues[idx]\n",
    "    normalized_eigenvectors = normalized_eigenvectors[:,idx]\n",
    "\n",
    "    for i in range(r):\n",
    "        sigma_i = ... # YOUR CODE HERE\n",
    "        v_i = ... # YOUR CODE HERE\n",
    "        u_i = ... # YOUR CODE HERE\n",
    "\n",
    "        Sigma_r[i][i] = sigma_i\n",
    "        V_r[:,i] = v_i\n",
    "        U_r[:,i] = u_i\n",
    "    \n",
    "    U = ExtendBasis(U_r)\n",
    "    V = ExtendBasis(V_r)\n",
    "    Sigma = np.pad(Sigma_r, [(0, m-r), (0, n-r)])\n",
    "    \n",
    "    return (U, Sigma, V)"
   ]
  },
  {
   "cell_type": "code",
   "execution_count": null,
   "metadata": {},
   "outputs": [],
   "source": [
    "def ExtendBasis(S):\n",
    "    Q, R = np.linalg.qr(S, mode='complete')\n",
    "    return Q "
   ]
  },
  {
   "cell_type": "markdown",
   "metadata": {},
   "source": [
    "Run the cell below to solve for the SVD of our $A$ matrix using our defined algorithm:"
   ]
  },
  {
   "cell_type": "code",
   "execution_count": null,
   "metadata": {},
   "outputs": [],
   "source": [
    "U, Sigma, V = FullSVD(A)\n",
    "print(\"U:\")\n",
    "print(U)\n",
    "print(\"Sigma:\")\n",
    "print(Sigma)\n",
    "print(\"V:\")\n",
    "print(V)"
   ]
  },
  {
   "cell_type": "markdown",
   "metadata": {},
   "source": [
    "### Part (c)\n",
    "Recall that the pseudoinverse of a matrix $A$ with a compact SVD of $A = U_r \\Sigma_r V_r^\\top$ can be written as:\n",
    "$$\n",
    "    A^{\\dagger} := V_r \\Sigma_r^{-1}U_r^{\\top}\n",
    "$$\n",
    "__Calculate the compact pseudoinverse of $A$ and then solve for the minimum norm solution for $\\vec{x}$.__\n",
    "\n",
    "HINT: You may find the following function useful: https://numpy.org/doc/stable/reference/generated/numpy.linalg.inv.html"
   ]
  },
  {
   "cell_type": "code",
   "execution_count": null,
   "metadata": {},
   "outputs": [],
   "source": [
    "r = np.linalg.matrix_rank(A)\n",
    "A_dagger = ... @ ... @ ... # YOUR CODE HERE\n",
    "min_norm = ... # YOUR CODE HERE\n",
    "print(\"Pseudoinverse: \\n\", A_dagger)\n",
    "print(\"Min Norm Solution: \\n\", min_norm)"
   ]
  },
  {
   "cell_type": "markdown",
   "metadata": {},
   "source": [
    "Let's check our work by comparing our solution with the solution that numpy calculates."
   ]
  },
  {
   "cell_type": "code",
   "execution_count": null,
   "metadata": {},
   "outputs": [],
   "source": [
    "A_dagger_np = np.linalg.pinv(A)\n",
    "min_norm_np = A_dagger_np @ b\n",
    "\n",
    "print(\"Expected pseudoinverse: \\n\", A_dagger_np)\n",
    "print(\"Actual pseudoinverse: \\n\", A_dagger)\n",
    "print(\"Expected min norm solution: \\n\", min_norm_np)\n",
    "print(\"Actual min norm solution: \\n\", min_norm)"
   ]
  },
  {
   "cell_type": "markdown",
   "metadata": {},
   "source": [
    "### Part (d)\n",
    "Recall that for a wide matrix $A \\in \\mathbb{R}^{m \\times n}$ where $m \\leq n$ and rank($A$) = $m$ ($A$ has full row rank), the pseudoinverse can be represented as\n",
    "$$\n",
    "    A^\\dagger = A^\\top (AA^\\top)^{-1}\n",
    "$$\n",
    "__Use this definition of the pseudoinverse to solve for the minimum norm solution and show that they are the same.__\n",
    "\n",
    "HINT: You may find the following function useful: https://numpy.org/doc/stable/reference/generated/numpy.linalg.inv.html. Also recall that matrix multiplication uses the operator @."
   ]
  },
  {
   "cell_type": "code",
   "execution_count": null,
   "metadata": {},
   "outputs": [],
   "source": [
    "A_dagger_full_rank = ... # YOUR CODE HERE\n",
    "min_norm_full_rank = ... # YOUR CODE HERE\n",
    "print(\"Pseudoinverse: \\n\", A_dagger_full_rank)\n",
    "print(\"Min Norm Solution: \\n \", min_norm_full_rank)"
   ]
  },
  {
   "cell_type": "markdown",
   "metadata": {},
   "source": [
    "### Part (e)\n",
    "Suppose we tried to use the following form of the pseudoinverse to calculate the minimum norm solution for our problem:\n",
    "$$\n",
    "    A^\\dagger =  (A^\\top A)^{-1}A^\\top\n",
    "$$\n",
    "__Why does or doesn't this form of the pseudoinverse work for solving our problem? Verify your response below.__"
   ]
  },
  {
   "cell_type": "code",
   "execution_count": null,
   "metadata": {},
   "outputs": [],
   "source": [
    "A_dagger_ls = ... # YOUR CODE HERE\n",
    "min_norm_ls = ... # YOUR CODE HERE\n",
    "print(\"Pseudoinverse: \\n\", A_dagger_ls)\n",
    "print(\"Min Norm Solution: \\n \", min_norm_ls)"
   ]
  },
  {
   "cell_type": "markdown",
   "metadata": {},
   "source": [
    "Contributors:\n",
    "- Oliver Yu"
   ]
  }
 ],
 "metadata": {
  "kernelspec": {
   "display_name": "Python 3.8.10 64-bit",
   "language": "python",
   "name": "python3"
  },
  "language_info": {
   "codemirror_mode": {
    "name": "ipython",
    "version": 3
   },
   "file_extension": ".py",
   "mimetype": "text/x-python",
   "name": "python",
   "nbconvert_exporter": "python",
   "pygments_lexer": "ipython3",
   "version": "3.8.10"
  },
  "orig_nbformat": 4,
  "vscode": {
   "interpreter": {
    "hash": "916dbcbb3f70747c44a77c7bcd40155683ae19c65e1c03b4aa3499c5328201f1"
   }
  }
 },
 "nbformat": 4,
 "nbformat_minor": 2
}
